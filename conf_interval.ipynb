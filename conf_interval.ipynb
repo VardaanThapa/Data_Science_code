{
  "nbformat": 4,
  "nbformat_minor": 0,
  "metadata": {
    "colab": {
      "name": "Untitled8.ipynb",
      "provenance": [],
      "authorship_tag": "ABX9TyMEmIku28BIINxB996e8CqT",
      "include_colab_link": true
    },
    "kernelspec": {
      "name": "python3",
      "display_name": "Python 3"
    },
    "language_info": {
      "name": "python"
    }
  },
  "cells": [
    {
      "cell_type": "markdown",
      "metadata": {
        "id": "view-in-github",
        "colab_type": "text"
      },
      "source": [
        "<a href=\"https://colab.research.google.com/github/VardaanThapa/Data_Science_code/blob/main/conf_interval.ipynb\" target=\"_parent\"><img src=\"https://colab.research.google.com/assets/colab-badge.svg\" alt=\"Open In Colab\"/></a>"
      ]
    },
    {
      "cell_type": "code",
      "metadata": {
        "id": "AfCg5PuIerRS"
      },
      "source": [
        "from scipy import stats\n",
        "import pandas as pd"
      ],
      "execution_count": 3,
      "outputs": []
    },
    {
      "cell_type": "code",
      "metadata": {
        "id": "dtC7lnAJfMib"
      },
      "source": [
        "bf = pd.read_csv(\"beml_df.csv\")\n",
        "gf = pd.read_csv(\"glaxo_df.csv\")"
      ],
      "execution_count": 4,
      "outputs": []
    },
    {
      "cell_type": "code",
      "metadata": {
        "colab": {
          "base_uri": "https://localhost:8080/"
        },
        "id": "wYEMCHWMm5AW",
        "outputId": "d936663f-1fa0-40be-aa57-399dd8ad73e4"
      },
      "source": [
        "stats.norm.interval(0.95,loc=bf.gain.mean(),scale=bf.gain.std())"
      ],
      "execution_count": 6,
      "outputs": [
        {
          "output_type": "execute_result",
          "data": {
            "text/plain": [
              "(-0.051532729680601415, 0.05207422583871588)"
            ]
          },
          "metadata": {},
          "execution_count": 6
        }
      ]
    },
    {
      "cell_type": "code",
      "metadata": {
        "colab": {
          "base_uri": "https://localhost:8080/"
        },
        "id": "r3bq-4csnBB5",
        "outputId": "97465c3b-fa5d-4456-c600-5ce40483da8c"
      },
      "source": [
        "stats.norm.interval(0.95,loc=gf.gain.mean(),scale=gf.gain.std())"
      ],
      "execution_count": 7,
      "outputs": [
        {
          "output_type": "execute_result",
          "data": {
            "text/plain": [
              "(-0.02580013329388316, 0.026572215459067742)"
            ]
          },
          "metadata": {},
          "execution_count": 7
        }
      ]
    },
    {
      "cell_type": "code",
      "metadata": {
        "id": "MD2qrAUNn25I"
      },
      "source": [
        ""
      ],
      "execution_count": null,
      "outputs": []
    }
  ]
}