{
  "nbformat": 4,
  "nbformat_minor": 0,
  "metadata": {
    "colab": {
      "name": "Untitled7.ipynb",
      "provenance": [],
      "authorship_tag": "ABX9TyPPSfx2w3mcZgQXneIPrAHD",
      "include_colab_link": true
    },
    "kernelspec": {
      "name": "python3",
      "display_name": "Python 3"
    },
    "language_info": {
      "name": "python"
    }
  },
  "cells": [
    {
      "cell_type": "markdown",
      "metadata": {
        "id": "view-in-github",
        "colab_type": "text"
      },
      "source": [
        "<a href=\"https://colab.research.google.com/github/VardaanThapa/Data_Science_code/blob/main/Prob_calc_cdf.ipynb\" target=\"_parent\"><img src=\"https://colab.research.google.com/assets/colab-badge.svg\" alt=\"Open In Colab\"/></a>"
      ]
    },
    {
      "cell_type": "code",
      "metadata": {
        "id": "GyNf0i41ngTo"
      },
      "source": [
        "import pandas as pd\n",
        "import matplotlib.pyplot as plt\n",
        "import seaborn as sns\n",
        "import numpy as np"
      ],
      "execution_count": 2,
      "outputs": []
    },
    {
      "cell_type": "code",
      "metadata": {
        "id": "xZrVlFPrnk2m"
      },
      "source": [
        "from scipy import stats"
      ],
      "execution_count": 3,
      "outputs": []
    },
    {
      "cell_type": "code",
      "metadata": {
        "colab": {
          "base_uri": "https://localhost:8080/"
        },
        "id": "mMVt2aDH1Jfz",
        "outputId": "3342d9d6-052f-4312-a2bd-5019cf27e393"
      },
      "source": [
        "#P(X<=x)\n",
        "1- stats.norm.cdf(70,loc=60,scale=10)"
      ],
      "execution_count": 6,
      "outputs": [
        {
          "output_type": "execute_result",
          "data": {
            "text/plain": [
              "0.15865525393145707"
            ]
          },
          "metadata": {},
          "execution_count": 6
        }
      ]
    },
    {
      "cell_type": "code",
      "metadata": {
        "colab": {
          "base_uri": "https://localhost:8080/"
        },
        "id": "4K-WlXc21igl",
        "outputId": "b192d7fb-d70b-4a8f-84fc-af1d3f28e27f"
      },
      "source": [
        "stats.norm.cdf(680,loc=711,scale=29)"
      ],
      "execution_count": 7,
      "outputs": [
        {
          "output_type": "execute_result",
          "data": {
            "text/plain": [
              "0.14254260383881612"
            ]
          },
          "metadata": {},
          "execution_count": 7
        }
      ]
    },
    {
      "cell_type": "code",
      "metadata": {
        "colab": {
          "base_uri": "https://localhost:8080/"
        },
        "id": "XYxv7J1_2ixM",
        "outputId": "3965d3a7-3b74-42bd-e814-9b85e0251179"
      },
      "source": [
        "stats.norm.cdf(740,711,29)-stats.norm.cdf(697,711,29)"
      ],
      "execution_count": 9,
      "outputs": [
        {
          "output_type": "execute_result",
          "data": {
            "text/plain": [
              "0.5267111786415019"
            ]
          },
          "metadata": {},
          "execution_count": 9
        }
      ]
    },
    {
      "cell_type": "code",
      "metadata": {
        "id": "kZIgrKBz4Bh5"
      },
      "source": [
        "beml_df = pd.read_csv(\"beml_df.csv\")\n",
        "glaxo_df = pd.read_csv(\"glaxo_df.csv\")"
      ],
      "execution_count": 10,
      "outputs": []
    },
    {
      "cell_type": "code",
      "metadata": {
        "id": "WCPNVPnr7bIz"
      },
      "source": [
        "beml_df = beml_df[[\"Date\",\"Close\"]]\n",
        "glaxo_df = glaxo_df[[\"Date\",\"Close\"]]"
      ],
      "execution_count": 14,
      "outputs": []
    },
    {
      "cell_type": "code",
      "metadata": {
        "id": "dTB-5t4P7cQf"
      },
      "source": [
        "beml_df = beml_df.set_index(pd.DatetimeIndex(beml_df[\"Date\"]))"
      ],
      "execution_count": 16,
      "outputs": []
    },
    {
      "cell_type": "code",
      "metadata": {
        "id": "DbNER1DN8Nii"
      },
      "source": [
        "glaxo_df = glaxo_df.set_index(pd.DatetimeIndex(glaxo_df[\"Date\"]))"
      ],
      "execution_count": 20,
      "outputs": []
    },
    {
      "cell_type": "code",
      "metadata": {
        "colab": {
          "base_uri": "https://localhost:8080/",
          "height": 445
        },
        "id": "4hHXCarp8Yx1",
        "outputId": "f5542e22-c5e4-47ca-f4a9-bc4060af113b"
      },
      "source": [
        "beml_df"
      ],
      "execution_count": 19,
      "outputs": [
        {
          "output_type": "execute_result",
          "data": {
            "text/html": [
              "<div>\n",
              "<style scoped>\n",
              "    .dataframe tbody tr th:only-of-type {\n",
              "        vertical-align: middle;\n",
              "    }\n",
              "\n",
              "    .dataframe tbody tr th {\n",
              "        vertical-align: top;\n",
              "    }\n",
              "\n",
              "    .dataframe thead th {\n",
              "        text-align: right;\n",
              "    }\n",
              "</style>\n",
              "<table border=\"1\" class=\"dataframe\">\n",
              "  <thead>\n",
              "    <tr style=\"text-align: right;\">\n",
              "      <th></th>\n",
              "      <th>Date</th>\n",
              "      <th>Close</th>\n",
              "    </tr>\n",
              "    <tr>\n",
              "      <th>Date</th>\n",
              "      <th></th>\n",
              "      <th></th>\n",
              "    </tr>\n",
              "  </thead>\n",
              "  <tbody>\n",
              "    <tr>\n",
              "      <th>2010-01-05</th>\n",
              "      <td>2010-01-05</td>\n",
              "      <td>1134.60</td>\n",
              "    </tr>\n",
              "    <tr>\n",
              "      <th>2010-01-06</th>\n",
              "      <td>2010-01-06</td>\n",
              "      <td>1139.60</td>\n",
              "    </tr>\n",
              "    <tr>\n",
              "      <th>2010-01-07</th>\n",
              "      <td>2010-01-07</td>\n",
              "      <td>1144.15</td>\n",
              "    </tr>\n",
              "    <tr>\n",
              "      <th>2010-01-08</th>\n",
              "      <td>2010-01-08</td>\n",
              "      <td>1144.05</td>\n",
              "    </tr>\n",
              "    <tr>\n",
              "      <th>2010-01-11</th>\n",
              "      <td>2010-01-11</td>\n",
              "      <td>1137.00</td>\n",
              "    </tr>\n",
              "    <tr>\n",
              "      <th>...</th>\n",
              "      <td>...</td>\n",
              "      <td>...</td>\n",
              "    </tr>\n",
              "    <tr>\n",
              "      <th>2016-12-26</th>\n",
              "      <td>2016-12-26</td>\n",
              "      <td>950.25</td>\n",
              "    </tr>\n",
              "    <tr>\n",
              "      <th>2016-12-27</th>\n",
              "      <td>2016-12-27</td>\n",
              "      <td>975.70</td>\n",
              "    </tr>\n",
              "    <tr>\n",
              "      <th>2016-12-28</th>\n",
              "      <td>2016-12-28</td>\n",
              "      <td>974.40</td>\n",
              "    </tr>\n",
              "    <tr>\n",
              "      <th>2016-12-29</th>\n",
              "      <td>2016-12-29</td>\n",
              "      <td>986.05</td>\n",
              "    </tr>\n",
              "    <tr>\n",
              "      <th>2016-12-30</th>\n",
              "      <td>2016-12-30</td>\n",
              "      <td>1000.60</td>\n",
              "    </tr>\n",
              "  </tbody>\n",
              "</table>\n",
              "<p>1738 rows × 2 columns</p>\n",
              "</div>"
            ],
            "text/plain": [
              "                  Date    Close\n",
              "Date                           \n",
              "2010-01-05  2010-01-05  1134.60\n",
              "2010-01-06  2010-01-06  1139.60\n",
              "2010-01-07  2010-01-07  1144.15\n",
              "2010-01-08  2010-01-08  1144.05\n",
              "2010-01-11  2010-01-11  1137.00\n",
              "...                ...      ...\n",
              "2016-12-26  2016-12-26   950.25\n",
              "2016-12-27  2016-12-27   975.70\n",
              "2016-12-28  2016-12-28   974.40\n",
              "2016-12-29  2016-12-29   986.05\n",
              "2016-12-30  2016-12-30  1000.60\n",
              "\n",
              "[1738 rows x 2 columns]"
            ]
          },
          "metadata": {},
          "execution_count": 19
        }
      ]
    },
    {
      "cell_type": "code",
      "metadata": {
        "id": "aEIB8nUi8aeP"
      },
      "source": [
        "%matplotlib inline"
      ],
      "execution_count": 21,
      "outputs": []
    },
    {
      "cell_type": "code",
      "metadata": {
        "colab": {
          "base_uri": "https://localhost:8080/",
          "height": 282
        },
        "id": "FVLdSzGC9Ne-",
        "outputId": "51a6efca-ae3c-4919-a06e-1e1d88e9da8b"
      },
      "source": [
        "plt.plot(beml_df.Close)"
      ],
      "execution_count": 22,
      "outputs": [
        {
          "output_type": "execute_result",
          "data": {
            "text/plain": [
              "[<matplotlib.lines.Line2D at 0x7fd37dde4e90>]"
            ]
          },
          "metadata": {},
          "execution_count": 22
        },
        {
          "output_type": "display_data",
          "data": {
            "image/png": "[encoded data removed]",
            "text/plain": [
              "<Figure size 432x288 with 1 Axes>"
            ]
          },
          "metadata": {
            "needs_background": "light"
          }
        }
      ]
    },
    {
      "cell_type": "code",
      "metadata": {
        "colab": {
          "base_uri": "https://localhost:8080/",
          "height": 282
        },
        "id": "D36hDcVv9XCa",
        "outputId": "a584dae8-5917-4f9b-d491-d5b7e9e143c1"
      },
      "source": [
        "plt.plot(glaxo_df.Close)"
      ],
      "execution_count": 23,
      "outputs": [
        {
          "output_type": "execute_result",
          "data": {
            "text/plain": [
              "[<matplotlib.lines.Line2D at 0x7fd37ddfd7d0>]"
            ]
          },
          "metadata": {},
          "execution_count": 23
        },
        {
          "output_type": "display_data",
          "data": {
            "image/png": "[encoded data removed]",
            "text/plain": [
              "<Figure size 432x288 with 1 Axes>"
            ]
          },
          "metadata": {
            "needs_background": "light"
          }
        }
      ]
    },
    {
      "cell_type": "code",
      "metadata": {
        "id": "bjEYgZji9dhl"
      },
      "source": [
        "glaxo_df[\"gain\"] = glaxo_df.Close.pct_change(periods=1)"
      ],
      "execution_count": 28,
      "outputs": []
    },
    {
      "cell_type": "code",
      "metadata": {
        "id": "q9QLSjzy9vsh"
      },
      "source": [
        "beml_df[\"gain\"] = beml_df.Close.pct_change(periods=1)"
      ],
      "execution_count": 30,
      "outputs": []
    },
    {
      "cell_type": "code",
      "metadata": {
        "id": "yll-pr9O9zlE"
      },
      "source": [
        "glaxo_df = glaxo_df.dropna()\n",
        "beml_df = beml_df.dropna()"
      ],
      "execution_count": 34,
      "outputs": []
    },
    {
      "cell_type": "code",
      "metadata": {
        "colab": {
          "base_uri": "https://localhost:8080/",
          "height": 285
        },
        "id": "lZZDsBAz-Prr",
        "outputId": "70db779f-0c1f-4005-ba84-d3bbaeeeb239"
      },
      "source": [
        "plt.plot(glaxo_df.gain)"
      ],
      "execution_count": 35,
      "outputs": [
        {
          "output_type": "execute_result",
          "data": {
            "text/plain": [
              "[<matplotlib.lines.Line2D at 0x7fd37d5f66d0>]"
            ]
          },
          "metadata": {},
          "execution_count": 35
        },
        {
          "output_type": "display_data",
          "data": {
            "image/png": "[encoded data removed]",
            "text/plain": [
              "<Figure size 432x288 with 1 Axes>"
            ]
          },
          "metadata": {
            "needs_background": "light"
          }
        }
      ]
    },
    {
      "cell_type": "code",
      "metadata": {
        "colab": {
          "base_uri": "https://localhost:8080/",
          "height": 337
        },
        "id": "8yZnsFdG-RgU",
        "outputId": "17b4dd2b-449d-4d1d-8efc-50177d95d529"
      },
      "source": [
        "sns.distplot(x=glaxo_df.gain)"
      ],
      "execution_count": 40,
      "outputs": [
        {
          "output_type": "stream",
          "name": "stderr",
          "text": [
            "/usr/local/lib/python3.7/dist-packages/seaborn/distributions.py:2557: FutureWarning: `distplot` is a deprecated function and will be removed in a future version. Please adapt your code to use either `displot` (a figure-level function with similar flexibility) or `histplot` (an axes-level function for histograms).\n",
            "  warnings.warn(msg, FutureWarning)\n"
          ]
        },
        {
          "output_type": "execute_result",
          "data": {
            "text/plain": [
              "<matplotlib.axes._subplots.AxesSubplot at 0x7fd37ac1b7d0>"
            ]
          },
          "metadata": {},
          "execution_count": 40
        },
        {
          "output_type": "display_data",
          "data": {
            "image/png": "[encoded data removed]",
            "text/plain": [
              "<Figure size 432x288 with 1 Axes>"
            ]
          },
          "metadata": {
            "needs_background": "light"
          }
        }
      ]
    },
    {
      "cell_type": "code",
      "metadata": {
        "colab": {
          "base_uri": "https://localhost:8080/",
          "height": 272
        },
        "id": "jXMnsYFy-9K-",
        "outputId": "cf175d04-6615-4a35-ca71-f84a6e4fce76"
      },
      "source": [
        "sns.boxplot(data=glaxo_df,y=\"gain\")"
      ],
      "execution_count": 41,
      "outputs": [
        {
          "output_type": "execute_result",
          "data": {
            "text/plain": [
              "<matplotlib.axes._subplots.AxesSubplot at 0x7fd37aafab50>"
            ]
          },
          "metadata": {},
          "execution_count": 41
        },
        {
          "output_type": "display_data",
          "data": {
            "image/png": "[encoded data removed]",
            "text/plain": [
              "<Figure size 432x288 with 1 Axes>"
            ]
          },
          "metadata": {
            "needs_background": "light"
          }
        }
      ]
    },
    {
      "cell_type": "code",
      "metadata": {
        "id": "1l4YO7Rk_btg"
      },
      "source": [
        "g_mean = glaxo_df.gain.mean()\n",
        "g_std = glaxo_df.gain.std()"
      ],
      "execution_count": 43,
      "outputs": []
    },
    {
      "cell_type": "code",
      "metadata": {
        "id": "ufEB67L6_nee"
      },
      "source": [
        "b_mean = beml_df.gain.mean()\n",
        "b_std = beml_df.gain.std()"
      ],
      "execution_count": 44,
      "outputs": []
    },
    {
      "cell_type": "code",
      "metadata": {
        "id": "a1rKpjJA_xSp"
      },
      "source": [
        "from scipy import stats"
      ],
      "execution_count": 45,
      "outputs": []
    },
    {
      "cell_type": "code",
      "metadata": {
        "colab": {
          "base_uri": "https://localhost:8080/"
        },
        "id": "EY7mNzZf_0Yp",
        "outputId": "0f346767-467e-4556-85dc-ffe9a5424f04"
      },
      "source": [
        "stats.norm.cdf(-0.02,g_mean,g_std)"
      ],
      "execution_count": 48,
      "outputs": [
        {
          "output_type": "execute_result",
          "data": {
            "text/plain": [
              "0.06353789851454293"
            ]
          },
          "metadata": {},
          "execution_count": 48
        }
      ]
    },
    {
      "cell_type": "code",
      "metadata": {
        "colab": {
          "base_uri": "https://localhost:8080/"
        },
        "id": "rtSDnzfeAAu5",
        "outputId": "728354e1-0721-47ba-de23-63ed722025af"
      },
      "source": [
        "1-stats.norm.cdf(0.02,g_mean,g_std)"
      ],
      "execution_count": 50,
      "outputs": [
        {
          "output_type": "execute_result",
          "data": {
            "text/plain": [
              "0.07112572432274356"
            ]
          },
          "metadata": {},
          "execution_count": 50
        }
      ]
    },
    {
      "cell_type": "code",
      "metadata": {
        "colab": {
          "base_uri": "https://localhost:8080/"
        },
        "id": "d4t85tPPAP-O",
        "outputId": "3a06d21b-8388-46f9-d063-9fed34b9fa84"
      },
      "source": [
        "stats.norm.cdf(-0.02,b_mean,b_std)"
      ],
      "execution_count": 51,
      "outputs": [
        {
          "output_type": "execute_result",
          "data": {
            "text/plain": [
              "0.2216179428118762"
            ]
          },
          "metadata": {},
          "execution_count": 51
        }
      ]
    },
    {
      "cell_type": "code",
      "metadata": {
        "colab": {
          "base_uri": "https://localhost:8080/"
        },
        "id": "3G6zryrFAmL8",
        "outputId": "b1667170-a5b8-4ae5-dc0e-4c71c83aba37"
      },
      "source": [
        "1-stats.norm.cdf(0.02,b_mean,b_std)"
      ],
      "execution_count": 52,
      "outputs": [
        {
          "output_type": "execute_result",
          "data": {
            "text/plain": [
              "0.2277706340605088"
            ]
          },
          "metadata": {},
          "execution_count": 52
        }
      ]
    },
    {
      "cell_type": "code",
      "metadata": {
        "id": "iXByT36hApcl"
      },
      "source": [
        ""
      ],
      "execution_count": null,
      "outputs": []
    }
  ]
}